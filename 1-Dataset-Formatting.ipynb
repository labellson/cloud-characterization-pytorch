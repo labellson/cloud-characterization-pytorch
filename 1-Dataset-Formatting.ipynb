{
 "cells": [
  {
   "cell_type": "markdown",
   "metadata": {},
   "source": [
    "# Formato del dataset de nubes\n",
    "\n",
    "En este notebook se va a limpiar el dataset de las nubes de forma que nos quedemos solamente con **Cirrus, Altocumulus, Altostratus** y **Stratocumulo**.\n",
    "\n",
    "Se va a guardar un dataframe de `pandas` en el disco en formato `.pkl` con las clases anteriormente mencionadas.\n",
    "\n",
    "Cada imagen del dataset (256x256) va a ser partida en patches de (32x32). Estos patches van a ser etiquetados como nubes (dependiendo de su clase) o como cielo."
   ]
  },
  {
   "cell_type": "code",
   "execution_count": 2,
   "metadata": {},
   "outputs": [],
   "source": [
    "from sklearn.externals import joblib\n",
    "\n",
    "import pandas as pd\n",
    "import numpy as np\n",
    "import netCDF4"
   ]
  },
  {
   "cell_type": "code",
   "execution_count": 3,
   "metadata": {},
   "outputs": [],
   "source": [
    "clouds_nc = netCDF4.Dataset('data/TSIdatasetToCarlosIIISet600_20160609.nc')"
   ]
  },
  {
   "cell_type": "code",
   "execution_count": null,
   "metadata": {},
   "outputs": [],
   "source": []
  }
 ],
 "metadata": {
  "kernelspec": {
   "display_name": "Python 3",
   "language": "python",
   "name": "python3"
  },
  "language_info": {
   "codemirror_mode": {
    "name": "ipython",
    "version": 3
   },
   "file_extension": ".py",
   "mimetype": "text/x-python",
   "name": "python",
   "nbconvert_exporter": "python",
   "pygments_lexer": "ipython3",
   "version": "3.6.5"
  }
 },
 "nbformat": 4,
 "nbformat_minor": 2
}
