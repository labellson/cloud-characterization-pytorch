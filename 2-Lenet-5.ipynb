{
 "cells": [
  {
   "cell_type": "markdown",
   "metadata": {},
   "source": [
    "# LeNet 5\n",
    "\n",
    "En este Notebook se va a implementar la red convolucional **LeNet 5** en el dataset de nubes creado anteriormente."
   ]
  },
  {
   "cell_type": "code",
   "execution_count": 150,
   "metadata": {},
   "outputs": [],
   "source": [
    "from sklearn.externals import joblib\n",
    "\n",
    "import numpy as np\n",
    "import pandas as pd\n",
    "import sklearn.utils\n",
    "import matplotlib.pyplot as plt\n",
    "\n",
    "%matplotlib inline"
   ]
  },
  {
   "cell_type": "markdown",
   "metadata": {},
   "source": [
    "## Formatear el dataset\n",
    "Primero cargamos los datos desde el disco"
   ]
  },
  {
   "cell_type": "code",
   "execution_count": 151,
   "metadata": {},
   "outputs": [],
   "source": [
    "cloud_pd = joblib.load('data/clouds.pkl')\n",
    "cloud_pd = sklearn.utils.shuffle(cloud_pd)"
   ]
  },
  {
   "cell_type": "markdown",
   "metadata": {},
   "source": [
    "Dividimos el dataset en sets de train y test."
   ]
  },
  {
   "cell_type": "code",
   "execution_count": 152,
   "metadata": {},
   "outputs": [
    {
     "name": "stdout",
     "output_type": "stream",
     "text": [
      "- Number Data training: 13312\n",
      "- Number batches: 416\n",
      "- Number Data testing: 6656\n"
     ]
    }
   ],
   "source": [
    "batchsize = 32\n",
    "nData = cloud_pd.shape[0]\n",
    "nData_training = int(nData * 2/3)\n",
    "\n",
    "# Batches number for training\n",
    "batches = int(nData_training / batchsize)\n",
    "nData_testing = nData - nData_training\n",
    "\n",
    "print('- Number Data training: {}'.format(nData_training))\n",
    "print('- Number batches: {}'.format(batches))\n",
    "print('- Number Data testing: {}'.format(nData_testing))"
   ]
  },
  {
   "cell_type": "markdown",
   "metadata": {},
   "source": [
    "Crear una lookup_table con las etiquetas de las nubes y generar sus indices para el dataset."
   ]
  },
  {
   "cell_type": "code",
   "execution_count": 153,
   "metadata": {},
   "outputs": [
    {
     "name": "stdout",
     "output_type": "stream",
     "text": [
      "- Clouds Lookup-table:  ['altocumulos' 'altostratos' 'cirros' 'estratocumulos' 'sky']\n"
     ]
    }
   ],
   "source": [
    "cloud_lookup_table, cloud_pd.cloud_type = np.unique(cloud_pd.cloud_type.values,\n",
    "                                                    return_inverse=True)\n",
    "\n",
    "print('- Clouds Lookup-table: ', cloud_lookup_table)"
   ]
  },
  {
   "cell_type": "code",
   "execution_count": 154,
   "metadata": {},
   "outputs": [],
   "source": [
    "cloud_x = cloud_pd.iloc[:nData_training, 2:]\n",
    "cloud_y = cloud_pd.iloc[:nData_training, 0]\n",
    "\n",
    "cloud_test_x = cloud_pd.iloc[nData_training:, 2:]\n",
    "cloud_test_y = cloud_pd.iloc[nData_training:, 0]"
   ]
  },
  {
   "cell_type": "markdown",
   "metadata": {},
   "source": [
    "Importar paquetes necesarios de **pyTorch** y convertir los datos a tensores."
   ]
  },
  {
   "cell_type": "code",
   "execution_count": 155,
   "metadata": {},
   "outputs": [],
   "source": [
    "from torch.autograd import Variable\n",
    "\n",
    "import torch\n",
    "import torch.optim\n",
    "import torch.nn as nn\n",
    "import torch.nn.functional as F"
   ]
  },
  {
   "cell_type": "code",
   "execution_count": 156,
   "metadata": {},
   "outputs": [
    {
     "name": "stdout",
     "output_type": "stream",
     "text": [
      "- Cloud_x torch.Size([416, 32, 3, 32, 32])\n",
      "- Cloud_y torch.Size([416, 32])\n",
      "- Cloud_test_x torch.Size([6656, 3, 32, 32])\n",
      "- Cloud_test_y (6656,)\n"
     ]
    }
   ],
   "source": [
    "# Training\n",
    "cloud_x = cloud_x.values.reshape((batches, batchsize, \n",
    "                                  32, 32, 3)).astype('uint8')\n",
    "cloud_x = np.transpose(cloud_x, axes=(0, 1, 4, 2, 3))\n",
    "\n",
    "cloud_y = cloud_y.values.reshape((batches, batchsize))\n",
    "\n",
    "# Testing\n",
    "cloud_test_x = cloud_test_x.values.reshape((cloud_test_x.shape[0],\n",
    "                                            32, 32, 3)).astype('uint8')\n",
    "cloud_test_x = np.transpose(cloud_test_x, axes=(0, 3, 1, 2))\n",
    "\n",
    "cloud_test_y = cloud_test_y.values\n",
    "\n",
    "# Convert to tensors\n",
    "cloud_x = Variable(torch.Tensor(cloud_x).contiguous().cuda())\n",
    "cloud_y = Variable(torch.LongTensor(cloud_y).contiguous().cuda())\n",
    "cloud_test_x = Variable(torch.Tensor(cloud_test_x).contiguous().cuda())\n",
    "\n",
    "print('- Cloud_x {}'.format(cloud_x.shape))\n",
    "print('- Cloud_y {}'.format(cloud_y.shape))\n",
    "print('- Cloud_test_x {}'.format(cloud_test_x.shape))\n",
    "print('- Cloud_test_y {}'.format(cloud_test_y.shape))"
   ]
  },
  {
   "cell_type": "markdown",
   "metadata": {},
   "source": [
    "En este paso se normaliza el dataset"
   ]
  },
  {
   "cell_type": "code",
   "execution_count": 157,
   "metadata": {},
   "outputs": [],
   "source": [
    "cloud_x = F.normalize(cloud_x, dim=2)\n",
    "cloud_test_x = F.normalize(cloud_test_x, dim=1)"
   ]
  },
  {
   "cell_type": "markdown",
   "metadata": {},
   "source": [
    "## Definir la red neuronal\n",
    "\n",
    "A partir de este punto, se va a definir la arquitecture de **LeNet-5**. Tal y como se muestra en la imagen de abajo, la red esta formada por 2 capas de convolución con un filtro de tamaño (5x5) seguidas de maxpooling (2,2) y 3 capas ocultas fully connected al final.\n",
    "\n",
    "![Architecture of LeNet-5](https://www.researchgate.net/profile/Vladimir_Golovko3/publication/313808170/figure/fig3/AS:552880910618630@1508828489678/Architecture-of-LeNet-5.ppm)"
   ]
  },
  {
   "cell_type": "code",
   "execution_count": 226,
   "metadata": {},
   "outputs": [
    {
     "name": "stdout",
     "output_type": "stream",
     "text": [
      "LeNet(\n",
      "  (conv1): Conv2d(3, 6, kernel_size=(5, 5), stride=(1, 1))\n",
      "  (conv2): Conv2d(6, 16, kernel_size=(5, 5), stride=(1, 1))\n",
      "  (fc1): Linear(in_features=400, out_features=120, bias=True)\n",
      "  (fc2): Linear(in_features=120, out_features=84, bias=True)\n",
      "  (fc3): Linear(in_features=84, out_features=5, bias=True)\n",
      ")\n"
     ]
    }
   ],
   "source": [
    "class LeNet(nn.Module):\n",
    "    \n",
    "    def __init__(self):\n",
    "        super(LeNet, self).__init__()\n",
    "        # First convolutional layer, 6 channels, kernel 5x5\n",
    "        self.conv1 = nn.Conv2d(3, 6, kernel_size=5)\n",
    "        \n",
    "        # Second convolutional layer, 16 channels, kernel 5x5\n",
    "        self.conv2 = nn.Conv2d(6, 16, kernel_size=5)\n",
    "        \n",
    "        # Fully connected\n",
    "        self.fc1 = nn.Linear(16 * 5 * 5, 120)\n",
    "        self.fc2 = nn.Linear(120, 84)\n",
    "        self.fc3 = nn.Linear(84, len(cloud_lookup_table))\n",
    "        \n",
    "    def forward(self, x):\n",
    "        b_size = x.size(0)\n",
    "\n",
    "        # Max pooling (2,2)\n",
    "        x = F.max_pool2d(F.relu(self.conv1(x)), (2, 2))\n",
    "        x = F.max_pool2d(F.relu(self.conv2(x)), (2, 2))\n",
    "        x = x.view(b_size, -1)\n",
    "        x = F.relu(self.fc1(x))\n",
    "        x = F.relu(self.fc2(x))\n",
    "        x = self.fc3(x)\n",
    "\n",
    "        return x\n",
    "        \n",
    "    def num_flat_features(self, x):\n",
    "        size = x.size()[1:]  # all dimensions except the batch dimension\n",
    "        num_features = 1\n",
    "        for s in size:\n",
    "            num_features *= s\n",
    "        return num_features\n",
    "    \n",
    "net = LeNet().cuda()\n",
    "print(net)"
   ]
  },
  {
   "cell_type": "code",
   "execution_count": 230,
   "metadata": {
    "scrolled": false
   },
   "outputs": [
    {
     "name": "stderr",
     "output_type": "stream",
     "text": [
      "/usr/lib/python3.6/site-packages/ipykernel_launcher.py:27: DeprecationWarning: elementwise == comparison failed; this will raise an error in the future.\n"
     ]
    },
    {
     "ename": "AttributeError",
     "evalue": "'bool' object has no attribute 'sum'",
     "output_type": "error",
     "traceback": [
      "\u001b[0;31m---------------------------------------------------------------------------\u001b[0m",
      "\u001b[0;31mAttributeError\u001b[0m                            Traceback (most recent call last)",
      "\u001b[0;32m<ipython-input-230-2de3c404ffec>\u001b[0m in \u001b[0;36m<module>\u001b[0;34m()\u001b[0m\n\u001b[1;32m     26\u001b[0m     \u001b[0moutput_test\u001b[0m \u001b[0;34m=\u001b[0m \u001b[0mnet\u001b[0m\u001b[0;34m(\u001b[0m\u001b[0mcloud_test_x\u001b[0m\u001b[0;34m)\u001b[0m\u001b[0;34m.\u001b[0m\u001b[0mdata\u001b[0m\u001b[0;34m.\u001b[0m\u001b[0mcpu\u001b[0m\u001b[0;34m(\u001b[0m\u001b[0;34m)\u001b[0m\u001b[0;34m.\u001b[0m\u001b[0mnumpy\u001b[0m\u001b[0;34m(\u001b[0m\u001b[0;34m)\u001b[0m\u001b[0;34m.\u001b[0m\u001b[0mflatten\u001b[0m\u001b[0;34m(\u001b[0m\u001b[0;34m)\u001b[0m\u001b[0;34m\u001b[0m\u001b[0m\n\u001b[1;32m     27\u001b[0m     \u001b[0msuccess\u001b[0m \u001b[0;34m=\u001b[0m \u001b[0;34m(\u001b[0m\u001b[0mcloud_test_y\u001b[0m \u001b[0;34m==\u001b[0m \u001b[0moutput_test\u001b[0m\u001b[0;34m)\u001b[0m\u001b[0;34m\u001b[0m\u001b[0m\n\u001b[0;32m---> 28\u001b[0;31m     \u001b[0msuccess_history\u001b[0m\u001b[0;34m(\u001b[0m\u001b[0msuccess\u001b[0m\u001b[0;34m.\u001b[0m\u001b[0msum\u001b[0m\u001b[0;34m(\u001b[0m\u001b[0;34m)\u001b[0m \u001b[0;34m/\u001b[0m \u001b[0msuccess\u001b[0m\u001b[0;34m.\u001b[0m\u001b[0mshape\u001b[0m\u001b[0;34m[\u001b[0m\u001b[0;36m0\u001b[0m\u001b[0;34m]\u001b[0m\u001b[0;34m)\u001b[0m\u001b[0;34m\u001b[0m\u001b[0m\n\u001b[0m\u001b[1;32m     29\u001b[0m \u001b[0;34m\u001b[0m\u001b[0m\n\u001b[1;32m     30\u001b[0m     \u001b[0mprint\u001b[0m\u001b[0;34m(\u001b[0m\u001b[0;34m'[Epoch {}] Train loss: {} Test accuracy: {}'\u001b[0m\u001b[0;34m.\u001b[0m\u001b[0mformat\u001b[0m\u001b[0;34m(\u001b[0m\u001b[0mepoch\u001b[0m\u001b[0;34m,\u001b[0m \u001b[0mloss\u001b[0m\u001b[0;34m,\u001b[0m \u001b[0msuccess_history\u001b[0m\u001b[0;34m[\u001b[0m\u001b[0midx\u001b[0m\u001b[0;34m]\u001b[0m\u001b[0;34m)\u001b[0m\u001b[0;34m)\u001b[0m\u001b[0;34m\u001b[0m\u001b[0m\n",
      "\u001b[0;31mAttributeError\u001b[0m: 'bool' object has no attribute 'sum'"
     ]
    }
   ],
   "source": [
    "optimizer = torch.optim.SGD(net.parameters(), lr=0.03)\n",
    "loss_function = F.nll_loss\n",
    "success_history = list()\n",
    "\n",
    "import time\n",
    "\n",
    "start = time.time()\n",
    "\n",
    "for epoch in range(1):\n",
    "    net.train()\n",
    "    \n",
    "    # Training\n",
    "    for idx in range(cloud_x.shape[0]):\n",
    "        batch = cloud_x[idx]\n",
    "        target = cloud_y[idx]\n",
    "        optimizer.zero_grad() # set to zero gradient buffers\n",
    "        output = net.forward(batch)\n",
    "        loss = F.nll_loss(output, target)\n",
    "        loss.backward() # compute gradients\n",
    "        optimizer.step() # do the update\n",
    "        \n",
    "    # Testing  \n",
    "    net.eval()\n",
    "    \n",
    "    output_test = net(cloud_test_x).data.cpu().numpy().flatten()\n",
    "    success = (cloud_test_y == output_test)\n",
    "    success_history(success.sum() / success.shape[0])\n",
    "    \n",
    "    print('[Epoch {}] Train loss: {} Test accuracy: {}'.format(epoch, loss, success_history[idx]))\n",
    "    \n",
    "end = time.time()\n",
    "print('\\n- Time: ', end - start)"
   ]
  },
  {
   "cell_type": "code",
   "execution_count": 120,
   "metadata": {},
   "outputs": [
    {
     "data": {
      "text/plain": [
       "(6656,)"
      ]
     },
     "execution_count": 120,
     "metadata": {},
     "output_type": "execute_result"
    }
   ],
   "source": [
    "cloud_test_y.shape"
   ]
  },
  {
   "cell_type": "code",
   "execution_count": 137,
   "metadata": {},
   "outputs": [
    {
     "data": {
      "text/plain": [
       "torch.Size([6656, 3, 32, 32])"
      ]
     },
     "execution_count": 137,
     "metadata": {},
     "output_type": "execute_result"
    }
   ],
   "source": [
    "cloud_x[0,0].shape\n",
    "cloud_test_x.shape"
   ]
  },
  {
   "cell_type": "code",
   "execution_count": 168,
   "metadata": {},
   "outputs": [
    {
     "ename": "TypeError",
     "evalue": "expected torch.FloatTensor (got torch.cuda.FloatTensor)",
     "output_type": "error",
     "traceback": [
      "\u001b[0;31m---------------------------------------------------------------------------\u001b[0m",
      "\u001b[0;31mTypeError\u001b[0m                                 Traceback (most recent call last)",
      "\u001b[0;32m<ipython-input-168-237856e6a975>\u001b[0m in \u001b[0;36m<module>\u001b[0;34m()\u001b[0m\n\u001b[0;32m----> 1\u001b[0;31m \u001b[0mVariable\u001b[0m\u001b[0;34m(\u001b[0m\u001b[0mtorch\u001b[0m\u001b[0;34m.\u001b[0m\u001b[0mTensor\u001b[0m\u001b[0;34m(\u001b[0m\u001b[0mcloud_test_x\u001b[0m\u001b[0;34m[\u001b[0m\u001b[0;36m0\u001b[0m\u001b[0;34m]\u001b[0m\u001b[0;34m)\u001b[0m\u001b[0;34m)\u001b[0m\u001b[0;34m.\u001b[0m\u001b[0mcontiguous\u001b[0m\u001b[0;34m(\u001b[0m\u001b[0;34m)\u001b[0m\u001b[0;34m.\u001b[0m\u001b[0mcuda\u001b[0m\u001b[0;34m(\u001b[0m\u001b[0;34m)\u001b[0m\u001b[0;34m.\u001b[0m\u001b[0mshape\u001b[0m\u001b[0;34m\u001b[0m\u001b[0m\n\u001b[0m",
      "\u001b[0;31mTypeError\u001b[0m: expected torch.FloatTensor (got torch.cuda.FloatTensor)"
     ]
    }
   ],
   "source": [
    "Variable(torch.Tensor(cloud_test_x[0])).contiguous().cuda().shape"
   ]
  },
  {
   "cell_type": "code",
   "execution_count": 163,
   "metadata": {},
   "outputs": [
    {
     "data": {
      "text/plain": [
       "tensor([ 3.])"
      ]
     },
     "execution_count": 163,
     "metadata": {},
     "output_type": "execute_result"
    }
   ],
   "source": [
    "x = Variable(torch.zeros(1), requires_grad=True)\n",
    "out = x * 3\n",
    "out.backward()\n",
    "x.grad"
   ]
  },
  {
   "cell_type": "code",
   "execution_count": 228,
   "metadata": {
    "scrolled": true
   },
   "outputs": [
    {
     "name": "stdout",
     "output_type": "stream",
     "text": [
      "tensor(1.00000e-02 *\n",
      "       [[-5.1123, -6.0579,  5.8070, -9.0513,  4.2733],\n",
      "        [-5.2435, -6.0656,  5.7010, -9.1269,  4.3037],\n",
      "        [-5.2144, -6.0596,  5.7415, -9.1092,  4.2850],\n",
      "        [-5.0466, -6.0473,  5.8201, -8.9950,  4.2511],\n",
      "        [-5.2361, -6.0557,  5.7401, -9.1382,  4.3055],\n",
      "        [-5.2351, -6.0533,  5.7310, -9.1038,  4.3060],\n",
      "        [-5.0760, -6.0475,  5.8356, -9.0294,  4.2802],\n",
      "        [-5.2011, -6.0698,  5.7197, -9.0727,  4.3128],\n",
      "        [-5.2533, -6.0663,  5.6946, -9.1282,  4.2904],\n",
      "        [-5.0118, -6.0950,  5.8153, -8.9499,  4.3653],\n",
      "        [-5.0158, -6.0425,  5.9046, -9.0361,  4.2516],\n",
      "        [-5.8907, -6.1189,  5.6820, -9.2556,  4.7412],\n",
      "        [-5.0767, -6.0626,  5.8173, -9.0233,  4.2645],\n",
      "        [-5.2002, -6.0475,  5.7101, -9.0233,  4.3545],\n",
      "        [-5.2375, -6.0552,  5.7408, -9.1495,  4.2945],\n",
      "        [-5.0100, -6.0462,  5.9109, -9.0138,  4.2512],\n",
      "        [-5.0436, -6.0451,  5.8456, -9.0065,  4.2508],\n",
      "        [-4.9822, -6.0431,  5.9181, -9.0130,  4.2335],\n",
      "        [-5.2289, -6.0642,  5.7273, -9.0783,  4.3355],\n",
      "        [-5.2510, -6.0588,  5.7034, -9.1218,  4.2948],\n",
      "        [-5.0562, -6.0465,  5.8741, -9.0490,  4.2583],\n",
      "        [-5.1901, -6.0603,  5.7356, -9.0806,  4.2866],\n",
      "        [-5.2244, -6.0473,  5.7658, -9.1556,  4.3017],\n",
      "        [-5.2198, -6.0581,  5.7388, -9.1221,  4.3138],\n",
      "        [-5.0875, -6.0444,  5.8195, -9.0396,  4.2637],\n",
      "        [-5.2123, -6.0984,  5.6385, -9.1063,  4.4027],\n",
      "        [-5.0549, -6.0578,  5.8447, -9.0478,  4.2317],\n",
      "        [-5.2291, -6.0679,  5.6582, -9.0940,  4.2811],\n",
      "        [-4.9890, -6.1852,  5.8389, -8.9910,  4.3311],\n",
      "        [-5.1033, -6.0477,  5.8400, -9.0656,  4.2756],\n",
      "        [-5.0449, -6.0464,  5.8776, -9.0422,  4.2544],\n",
      "        [-5.1842, -6.0515,  5.7704, -9.1029,  4.2925]], device='cuda:0')\n"
     ]
    }
   ],
   "source": [
    "net.train()\n",
    "optimizer.zero_grad()\n",
    "print(net.forward(cloud_x[0]))"
   ]
  },
  {
   "cell_type": "code",
   "execution_count": null,
   "metadata": {},
   "outputs": [],
   "source": []
  }
 ],
 "metadata": {
  "kernelspec": {
   "display_name": "Python 3 [GPU]",
   "language": "python",
   "name": "optirun_python3"
  },
  "language_info": {
   "codemirror_mode": {
    "name": "ipython",
    "version": 3
   },
   "file_extension": ".py",
   "mimetype": "text/x-python",
   "name": "python",
   "nbconvert_exporter": "python",
   "pygments_lexer": "ipython3",
   "version": "3.6.5"
  }
 },
 "nbformat": 4,
 "nbformat_minor": 2
}
