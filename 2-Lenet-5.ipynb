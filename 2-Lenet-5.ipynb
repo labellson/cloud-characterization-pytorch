{
 "cells": [
  {
   "cell_type": "markdown",
   "metadata": {},
   "source": [
    "# LeNet 5\n",
    "\n",
    "En este Notebook se va a implementar la red convolucional **LeNet 5** en el dataset de nubes creado anteriormente."
   ]
  },
  {
   "cell_type": "code",
   "execution_count": 48,
   "metadata": {},
   "outputs": [],
   "source": [
    "from sklearn.externals import joblib\n",
    "\n",
    "import numpy as np\n",
    "import pandas as pd\n",
    "import sklearn.utils\n",
    "import matplotlib.pyplot as plt\n",
    "\n",
    "%matplotlib inline"
   ]
  },
  {
   "cell_type": "markdown",
   "metadata": {},
   "source": [
    "Primero cargamos los datos desde el disco"
   ]
  },
  {
   "cell_type": "code",
   "execution_count": 49,
   "metadata": {},
   "outputs": [],
   "source": [
    "cloud_pd = joblib.load('data/clouds.pkl')\n",
    "cloud_pd = sklearn.utils.shuffle(cloud_pd)"
   ]
  },
  {
   "cell_type": "markdown",
   "metadata": {},
   "source": [
    "Dividimos el dataset en sets de train y test."
   ]
  },
  {
   "cell_type": "code",
   "execution_count": 50,
   "metadata": {},
   "outputs": [
    {
     "name": "stdout",
     "output_type": "stream",
     "text": [
      "- Number Data training: 13312\n",
      "- Number batches: 416\n",
      "- Number Data testing: 6656\n"
     ]
    }
   ],
   "source": [
    "batchsize = 32\n",
    "nData = cloud_pd.shape[0]\n",
    "nData_training = int(nData * 2/3)\n",
    "\n",
    "# Batches number for training\n",
    "batches = int(nData_training / batchsize)\n",
    "nData_testing = nData - nData_training\n",
    "\n",
    "print('- Number Data training: {}'.format(nData_training))\n",
    "print('- Number batches: {}'.format(batches))\n",
    "print('- Number Data testing: {}'.format(nData_testing))"
   ]
  },
  {
   "cell_type": "markdown",
   "metadata": {},
   "source": [
    "Crear una lookup_table con las etiquetas de las nubes y generar sus indices para el dataset."
   ]
  },
  {
   "cell_type": "code",
   "execution_count": 51,
   "metadata": {},
   "outputs": [
    {
     "name": "stdout",
     "output_type": "stream",
     "text": [
      "- Clouds Lookup-table:  ['sky']\n"
     ]
    }
   ],
   "source": [
    "cloud_lookup_table, cloud_pd.cloud_type = np.unique(cloud_pd.cloud_type.values,\n",
    "                                                    return_inverse=True)\n",
    "\n",
    "print('- Clouds Lookup-table: ', cloud_lookup_table)"
   ]
  },
  {
   "cell_type": "code",
   "execution_count": 52,
   "metadata": {},
   "outputs": [],
   "source": [
    "cloud_x = cloud_pd.iloc[:nData_training, 2:]\n",
    "cloud_y = cloud_pd.iloc[:nData_training, 0]\n",
    "\n",
    "cloud_test_x = cloud_pd.iloc[nData_training:, 2:]\n",
    "cloud_test_y = cloud_pd.iloc[nData_training:, 0]"
   ]
  },
  {
   "cell_type": "markdown",
   "metadata": {},
   "source": [
    "Importar paquetes necesarios de **pyTorch** y convertir los datos a tensores."
   ]
  },
  {
   "cell_type": "code",
   "execution_count": 53,
   "metadata": {},
   "outputs": [],
   "source": [
    "from torch.autograd import Variable\n",
    "\n",
    "import torch\n",
    "import torch.nn as nn\n",
    "import torch.optim"
   ]
  },
  {
   "cell_type": "code",
   "execution_count": 54,
   "metadata": {},
   "outputs": [
    {
     "name": "stdout",
     "output_type": "stream",
     "text": [
      "- Cloud_x torch.Size([416, 32, 3, 32, 32])\n",
      "- Cloud_y torch.Size([416, 32])\n",
      "- Cloud_test_x torch.Size([6656, 3, 32, 32])\n",
      "- Cloud_test_y (6656,)\n"
     ]
    }
   ],
   "source": [
    "# Training\n",
    "cloud_x = cloud_x.values.reshape((batches, batchsize, \n",
    "                                  32, 32, 3)).astype('uint8')\n",
    "cloud_x = np.transpose(cloud_x, axes=(0, 1, 4, 2, 3))\n",
    "\n",
    "cloud_y = cloud_y.values.reshape((batches, batchsize))\n",
    "\n",
    "# Testing\n",
    "cloud_test_x = cloud_test_x.values.reshape((cloud_test_x.shape[0],\n",
    "                                            32, 32, 3)).astype('uint8')\n",
    "cloud_test_x = np.transpose(cloud_test_x, axes=(0, 3, 1, 2))\n",
    "\n",
    "cloud_test_y = cloud_test_y.values\n",
    "\n",
    "# Convert to tensors\n",
    "cloud_x = Variable(torch.Tensor(cloud_x).contiguous().cuda())\n",
    "cloud_y = Variable(torch.LongTensor(cloud_y).contiguous().cuda())\n",
    "cloud_test_x = Variable(torch.Tensor(cloud_test_x).contiguous().cuda())\n",
    "\n",
    "print('- Cloud_x {}'.format(cloud_x.shape))\n",
    "print('- Cloud_y {}'.format(cloud_y.shape))\n",
    "print('- Cloud_test_x {}'.format(cloud_test_x.shape))\n",
    "print('- Cloud_test_y {}'.format(cloud_test_y.shape))"
   ]
  }
 ],
 "metadata": {
  "kernelspec": {
   "display_name": "Python 3 [GPU]",
   "language": "python",
   "name": "optirun_python3"
  },
  "language_info": {
   "codemirror_mode": {
    "name": "ipython",
    "version": 3
   },
   "file_extension": ".py",
   "mimetype": "text/x-python",
   "name": "python",
   "nbconvert_exporter": "python",
   "pygments_lexer": "ipython3",
   "version": "3.6.5"
  }
 },
 "nbformat": 4,
 "nbformat_minor": 2
}
