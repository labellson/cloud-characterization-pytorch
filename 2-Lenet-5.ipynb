{
 "cells": [
  {
   "cell_type": "markdown",
   "metadata": {},
   "source": [
    "# LeNet 5\n",
    "\n",
    "En este Notebook se va a implementar la red convolucional **LeNet 5** en el dataset de nubes creado anteriormente."
   ]
  },
  {
   "cell_type": "code",
   "execution_count": 180,
   "metadata": {},
   "outputs": [],
   "source": [
    "from sklearn.externals import joblib\n",
    "from sklearn.metrics import confusion_matrix\n",
    "from print_confusion_matrix import print_confusion_matrix\n",
    "\n",
    "import numpy as np\n",
    "import pandas as pd\n",
    "import sklearn.utils\n",
    "import matplotlib.pyplot as plt\n",
    "\n",
    "%matplotlib inline"
   ]
  },
  {
   "cell_type": "markdown",
   "metadata": {},
   "source": [
    "## Formatear el dataset\n",
    "Primero cargamos los datos desde el disco"
   ]
  },
  {
   "cell_type": "code",
   "execution_count": 181,
   "metadata": {},
   "outputs": [],
   "source": [
    "cloud_pd = joblib.load('data/clouds.pkl')"
   ]
  },
  {
   "cell_type": "markdown",
   "metadata": {},
   "source": [
    "Se cuentan los datos que tenemos por cada clase para ver la cantidad que hay de cada uno."
   ]
  },
  {
   "cell_type": "code",
   "execution_count": 182,
   "metadata": {},
   "outputs": [
    {
     "data": {
      "text/plain": [
       "cloud_type\n",
       "altocumulos        1729\n",
       "altostratos        1727\n",
       "cirros              660\n",
       "estratocumulos     1743\n",
       "sky               14109\n",
       "Name: cloud_type, dtype: int64"
      ]
     },
     "execution_count": 182,
     "metadata": {},
     "output_type": "execute_result"
    }
   ],
   "source": [
    "cloud_pd.groupby(by='cloud_type').cloud_type.count()"
   ]
  },
  {
   "cell_type": "markdown",
   "metadata": {},
   "source": [
    "Hay pocos datos de cirros, por lo que sería necesario aumentar el numero de datos de esta clase creando imagenes sinteticas de las disponibles. Ademas hay un gran numero de muestras de la clase **sky** con respecto a las demas.\n",
    "\n",
    "En la siguiente celda se borra esta clase, pues no tiene mucho sentido introducirla en la clasificación. Pues es facilmente diferenciable con el preprocesado que se hizo con los patches en el notebook anterior."
   ]
  },
  {
   "cell_type": "code",
   "execution_count": 183,
   "metadata": {},
   "outputs": [],
   "source": [
    "cloud_pd = cloud_pd[cloud_pd.cloud_type != 'sky']"
   ]
  },
  {
   "cell_type": "markdown",
   "metadata": {},
   "source": [
    "Hacemos data augmentation utilizando **flip** y **rotacion**"
   ]
  },
  {
   "cell_type": "code",
   "execution_count": 206,
   "metadata": {},
   "outputs": [
    {
     "data": {
      "text/plain": [
       "(1320, 3074)"
      ]
     },
     "execution_count": 206,
     "metadata": {},
     "output_type": "execute_result"
    }
   ],
   "source": [
    "from imutils import augmentation\n",
    "import random\n",
    "\n",
    "cirros_pd = cloud_pd[cloud_pd.cloud_type == 'cirros']\n",
    "cirros = cirros_pd.iloc[:, 2:].values\n",
    "cirros_date = cirros_pd.datestr\n",
    "cirros = cirros.reshape((-1, 32, 32, 3)).astype(np.uint8)\n",
    "\n",
    "cirros_pd = pd.DataFrame(columns=['cloud_type', 'datestr', *range(32*32*3)])\n",
    "row = pd.Series(['cirros', d, *np.random.rand(32*32*3)],\n",
    "                index=['cloud_type', 'datestr', *range(32*32*3)])\n",
    "for (d, c) in zip(cirros_date, cirros):\n",
    "    row.datestr = d\n",
    "    \n",
    "    row[2:] = augmentation.flip_img(c, random.randint(0,1)).flatten()\n",
    "    cirros_pd = cirros_pd.append(row, ignore_index=True)\n",
    "    \n",
    "    row[2:] = augmentation.rot90_img(c, random.randint(0,1)).flatten()\n",
    "    cirros_pd = cirros_pd.append(row, ignore_index=True)\n",
    "\n",
    "print(cirros_pd.shape)"
   ]
  },
  {
   "cell_type": "code",
   "execution_count": 209,
   "metadata": {},
   "outputs": [
    {
     "data": {
      "text/plain": [
       "cloud_type\n",
       "altocumulos       1729\n",
       "altostratos       1727\n",
       "cirros            1980\n",
       "estratocumulos    1743\n",
       "Name: cloud_type, dtype: int64"
      ]
     },
     "execution_count": 209,
     "metadata": {},
     "output_type": "execute_result"
    }
   ],
   "source": [
    "cloud_pd = cloud_pd.append(cirros_pd)\n",
    "cloud_pd = sklearn.utils.shuffle(cloud_pd)\n",
    "\n",
    "cloud_pd.groupby(by='cloud_type').cloud_type.count()"
   ]
  },
  {
   "cell_type": "markdown",
   "metadata": {},
   "source": [
    "Crear una lookup_table con las etiquetas de las nubes y generar sus indices para el dataset."
   ]
  },
  {
   "cell_type": "code",
   "execution_count": 210,
   "metadata": {},
   "outputs": [
    {
     "name": "stdout",
     "output_type": "stream",
     "text": [
      "- Clouds Lookup-table:  ['altocumulos' 'altostratos' 'cirros' 'estratocumulos']\n"
     ]
    }
   ],
   "source": [
    "cloud_lookup_table, cloud_pd.cloud_type = np.unique(cloud_pd.cloud_type.values,\n",
    "                                                    return_inverse=True)\n",
    "\n",
    "print('- Clouds Lookup-table: ', cloud_lookup_table)"
   ]
  },
  {
   "cell_type": "markdown",
   "metadata": {},
   "source": [
    "Dividimos el dataset en sets de train y test."
   ]
  },
  {
   "cell_type": "code",
   "execution_count": 211,
   "metadata": {},
   "outputs": [
    {
     "name": "stdout",
     "output_type": "stream",
     "text": [
      "- Number Data training: 4768\n",
      "- Number batches: 149\n",
      "- Number Data testing: 2411\n"
     ]
    }
   ],
   "source": [
    "batchsize = 32\n",
    "nData = cloud_pd.shape[0]\n",
    "nData_training = int(nData * 2/3)\n",
    "\n",
    "# Batches number for training\n",
    "batches = int(nData_training / batchsize)\n",
    "nData_training = batches * batchsize\n",
    "nData_testing = nData - nData_training\n",
    "\n",
    "print('- Number Data training: {}'.format(nData_training))\n",
    "print('- Number batches: {}'.format(batches))\n",
    "print('- Number Data testing: {}'.format(nData_testing))"
   ]
  },
  {
   "cell_type": "code",
   "execution_count": 212,
   "metadata": {},
   "outputs": [],
   "source": [
    "cloud_x = cloud_pd.iloc[:nData_training, 2:]\n",
    "cloud_y = cloud_pd.iloc[:nData_training, 0]\n",
    "\n",
    "cloud_test_x = cloud_pd.iloc[nData_training:, 2:]\n",
    "cloud_test_y = cloud_pd.iloc[nData_training:, 0]"
   ]
  },
  {
   "cell_type": "markdown",
   "metadata": {},
   "source": [
    "Importar paquetes necesarios de **pyTorch** y convertir los datos a tensores."
   ]
  },
  {
   "cell_type": "code",
   "execution_count": 213,
   "metadata": {},
   "outputs": [],
   "source": [
    "from torch.autograd import Variable\n",
    "\n",
    "import torch\n",
    "import torch.optim\n",
    "import torch.nn as nn\n",
    "import torch.nn.functional as F"
   ]
  },
  {
   "cell_type": "code",
   "execution_count": 214,
   "metadata": {},
   "outputs": [
    {
     "name": "stdout",
     "output_type": "stream",
     "text": [
      "- Cloud_x torch.Size([149, 32, 3, 32, 32])\n",
      "- Cloud_y torch.Size([149, 32])\n",
      "- Cloud_test_x torch.Size([2411, 3, 32, 32])\n",
      "- Cloud_test_y (2411,)\n"
     ]
    }
   ],
   "source": [
    "# Training\n",
    "cloud_x = cloud_x.values.reshape((batches, batchsize, \n",
    "                                  32, 32, 3)).astype('uint8')\n",
    "cloud_x = np.transpose(cloud_x, axes=(0, 1, 4, 2, 3))\n",
    "\n",
    "cloud_y = cloud_y.values.reshape((batches, batchsize))\n",
    "\n",
    "# Testing\n",
    "cloud_test_x = cloud_test_x.values.reshape((cloud_test_x.shape[0],\n",
    "                                            32, 32, 3)).astype('uint8')\n",
    "cloud_test_x = np.transpose(cloud_test_x, axes=(0, 3, 1, 2))\n",
    "\n",
    "cloud_test_y = cloud_test_y.values\n",
    "\n",
    "# Convert to tensors\n",
    "cloud_x = Variable(torch.Tensor(cloud_x).contiguous().cuda())\n",
    "cloud_y = Variable(torch.LongTensor(cloud_y).contiguous().cuda())\n",
    "cloud_test_x = Variable(torch.Tensor(cloud_test_x).contiguous().cuda())\n",
    "\n",
    "print('- Cloud_x {}'.format(cloud_x.shape))\n",
    "print('- Cloud_y {}'.format(cloud_y.shape))\n",
    "print('- Cloud_test_x {}'.format(cloud_test_x.shape))\n",
    "print('- Cloud_test_y {}'.format(cloud_test_y.shape))"
   ]
  },
  {
   "cell_type": "markdown",
   "metadata": {},
   "source": [
    "En este paso se normaliza el dataset"
   ]
  },
  {
   "cell_type": "code",
   "execution_count": 215,
   "metadata": {},
   "outputs": [],
   "source": [
    "cloud_x = F.normalize(cloud_x, dim=2)\n",
    "cloud_test_x = F.normalize(cloud_test_x, dim=1)"
   ]
  },
  {
   "cell_type": "markdown",
   "metadata": {},
   "source": [
    "## Definir la red neuronal\n",
    "\n",
    "A partir de este punto, se va a definir la arquitecture de **LeNet-5**. Tal y como se muestra en la imagen de abajo, la red esta formada por 2 capas de convolución con un filtro de tamaño (5x5) seguidas de maxpooling (2,2) y 3 capas ocultas fully connected al final.\n",
    "\n",
    "![Architecture of LeNet-5](https://www.researchgate.net/profile/Vladimir_Golovko3/publication/313808170/figure/fig3/AS:552880910618630@1508828489678/Architecture-of-LeNet-5.ppm)"
   ]
  },
  {
   "cell_type": "code",
   "execution_count": 225,
   "metadata": {},
   "outputs": [
    {
     "name": "stdout",
     "output_type": "stream",
     "text": [
      "LeNet(\n",
      "  (conv1): Conv2d(3, 6, kernel_size=(5, 5), stride=(1, 1))\n",
      "  (conv2): Conv2d(6, 16, kernel_size=(5, 5), stride=(1, 1))\n",
      "  (drop): Dropout(p=0.3)\n",
      "  (fc1): Linear(in_features=400, out_features=120, bias=True)\n",
      "  (fc2): Linear(in_features=120, out_features=84, bias=True)\n",
      "  (fc3): Linear(in_features=84, out_features=4, bias=True)\n",
      ")\n"
     ]
    }
   ],
   "source": [
    "class LeNet(nn.Module):\n",
    "    \n",
    "    def __init__(self):\n",
    "        super(LeNet, self).__init__()\n",
    "        # First convolutional layer, 6 channels, kernel 5x5\n",
    "        self.conv1 = nn.Conv2d(3, 6, kernel_size=5)\n",
    "        \n",
    "        # Second convolutional layer, 16 channels, kernel 5x5\n",
    "        self.conv2 = nn.Conv2d(6, 16, kernel_size=5)\n",
    "        \n",
    "        # Dropout 0.5\n",
    "        self.drop = nn.Dropout(0.3)\n",
    "        \n",
    "        # Fully connected\n",
    "        self.fc1 = nn.Linear(16 * 5 * 5, 120)\n",
    "        self.fc2 = nn.Linear(120, 84)\n",
    "        self.fc3 = nn.Linear(84, len(cloud_lookup_table))\n",
    "        \n",
    "        torch.nn.init.xavier_uniform_(self.conv1.weight)\n",
    "        torch.nn.init.xavier_uniform_(self.conv2.weight)\n",
    "        torch.nn.init.xavier_uniform_(self.fc1.weight)\n",
    "        torch.nn.init.xavier_uniform_(self.fc2.weight)\n",
    "        torch.nn.init.xavier_uniform_(self.fc3.weight)\n",
    "        \n",
    "    def forward(self, x):\n",
    "        b_size = x.size(0)\n",
    "\n",
    "        # Max pooling (2,2)\n",
    "        x = F.max_pool2d(F.relu(self.drop(self.conv1(x))), (2, 2))\n",
    "        x = F.max_pool2d(F.relu(self.drop(self.conv2(x))), (2, 2))\n",
    "        x = x.view(b_size, -1)\n",
    "        x = F.relu(self.fc1(x))\n",
    "        x = F.relu(self.fc2(x))\n",
    "        x = self.fc3(x)\n",
    "\n",
    "        return F.log_softmax(x)\n",
    "        \n",
    "net = LeNet().cuda()\n",
    "print(net)"
   ]
  },
  {
   "cell_type": "code",
   "execution_count": 226,
   "metadata": {},
   "outputs": [
    {
     "name": "stderr",
     "output_type": "stream",
     "text": [
      "/usr/lib/python3.6/site-packages/ipykernel_launcher.py:36: UserWarning: Implicit dimension choice for log_softmax has been deprecated. Change the call to include dim=X as an argument.\n"
     ]
    },
    {
     "name": "stdout",
     "output_type": "stream",
     "text": [
      "[Epoch 0] Train loss: 1.4259651899337769 Test accuracy: 0.2725010369141435\n",
      "[Epoch 1] Train loss: 1.4612494707107544 Test accuracy: 0.29821650767316465\n",
      "[Epoch 2] Train loss: 1.4536185264587402 Test accuracy: 0.32476150974699297\n",
      "[Epoch 3] Train loss: 1.4555141925811768 Test accuracy: 0.2986312733305682\n",
      "[Epoch 4] Train loss: 1.4651546478271484 Test accuracy: 0.30194939858979675\n",
      "[Epoch 5] Train loss: 1.4563292264938354 Test accuracy: 0.29987557030277895\n",
      "[Epoch 6] Train loss: 1.4415596723556519 Test accuracy: 0.30443799253421816\n",
      "[Epoch 7] Train loss: 1.4566212892532349 Test accuracy: 0.3139776026545002\n",
      "[Epoch 8] Train loss: 1.459898591041565 Test accuracy: 0.3164661965989216\n",
      "[Epoch 9] Train loss: 1.4507144689559937 Test accuracy: 0.29572791372874324\n",
      "[Epoch 10] Train loss: 1.4377249479293823 Test accuracy: 0.2990460389879718\n",
      "[Epoch 11] Train loss: 1.4331004619598389 Test accuracy: 0.2948983824139361\n",
      "[Epoch 12] Train loss: 1.4321964979171753 Test accuracy: 0.2965574450435504\n",
      "[Epoch 13] Train loss: 1.420331597328186 Test accuracy: 0.2961426793861468\n",
      "[Epoch 14] Train loss: 1.4024466276168823 Test accuracy: 0.3015346329323932\n",
      "[Epoch 15] Train loss: 1.3846017122268677 Test accuracy: 0.29821650767316465\n",
      "[Epoch 16] Train loss: 1.4063767194747925 Test accuracy: 0.2978017420157611\n",
      "[Epoch 17] Train loss: 1.4158941507339478 Test accuracy: 0.3023641642472003\n",
      "[Epoch 18] Train loss: 1.3927775621414185 Test accuracy: 0.2990460389879718\n",
      "[Epoch 19] Train loss: 1.4004454612731934 Test accuracy: 0.3011198672749896\n",
      "[Epoch 20] Train loss: 1.4462982416152954 Test accuracy: 0.2994608046453754\n",
      "[Epoch 21] Train loss: 1.3954741954803467 Test accuracy: 0.30734135213604313\n",
      "[Epoch 22] Train loss: 1.4209320545196533 Test accuracy: 0.30609705516383245\n",
      "[Epoch 23] Train loss: 1.4146132469177246 Test accuracy: 0.3309829946080465\n",
      "[Epoch 24] Train loss: 1.416945219039917 Test accuracy: 0.31356283699709664\n",
      "[Epoch 25] Train loss: 1.4114912748336792 Test accuracy: 0.31231854002488596\n",
      "[Epoch 26] Train loss: 1.4143060445785522 Test accuracy: 0.321858150145168\n",
      "[Epoch 27] Train loss: 1.3876945972442627 Test accuracy: 0.30817088345085025\n",
      "[Epoch 28] Train loss: 1.366816520690918 Test accuracy: 0.31065947739527167\n",
      "[Epoch 29] Train loss: 1.362938642501831 Test accuracy: 0.32973869763583574\n",
      "[Epoch 30] Train loss: 1.3577121496200562 Test accuracy: 0.2994608046453754\n",
      "[Epoch 31] Train loss: 1.3602015972137451 Test accuracy: 0.29075072583990047\n",
      "[Epoch 32] Train loss: 1.3720548152923584 Test accuracy: 0.3355454168394857\n",
      "[Epoch 33] Train loss: 1.3539868593215942 Test accuracy: 0.2915802571547076\n",
      "[Epoch 34] Train loss: 1.3876090049743652 Test accuracy: 0.31356283699709664\n",
      "[Epoch 35] Train loss: 1.365241289138794 Test accuracy: 0.32476150974699297\n",
      "[Epoch 36] Train loss: 1.3487712144851685 Test accuracy: 0.31729572791372873\n",
      "[Epoch 37] Train loss: 1.3559060096740723 Test accuracy: 0.3164661965989216\n",
      "[Epoch 38] Train loss: 1.3679656982421875 Test accuracy: 0.3355454168394857\n",
      "[Epoch 39] Train loss: 1.3412505388259888 Test accuracy: 0.3372044794691\n",
      "[Epoch 40] Train loss: 1.3823175430297852 Test accuracy: 0.3301534632932393\n",
      "[Epoch 41] Train loss: 1.3196738958358765 Test accuracy: 0.3463293239319784\n",
      "[Epoch 42] Train loss: 1.2854857444763184 Test accuracy: 0.35752799668187474\n",
      "[Epoch 43] Train loss: 1.2933553457260132 Test accuracy: 0.3550394027374533\n",
      "[Epoch 44] Train loss: 1.2884142398834229 Test accuracy: 0.35006221484861055\n",
      "[Epoch 45] Train loss: 1.352279543876648 Test accuracy: 0.33513065118208213\n",
      "[Epoch 46] Train loss: 1.2938259840011597 Test accuracy: 0.3728743260058067\n",
      "[Epoch 47] Train loss: 1.2631150484085083 Test accuracy: 0.36001659062629615\n",
      "[Epoch 48] Train loss: 1.2469773292541504 Test accuracy: 0.37370385732061384\n",
      "[Epoch 49] Train loss: 1.2505595684051514 Test accuracy: 0.3732890916632103\n",
      "[Epoch 50] Train loss: 1.2990542650222778 Test accuracy: 0.3695562007465782\n",
      "[Epoch 51] Train loss: 1.2355117797851562 Test accuracy: 0.38531729572791373\n",
      "[Epoch 52] Train loss: 1.180808186531067 Test accuracy: 0.37868104520945667\n",
      "[Epoch 53] Train loss: 1.2684361934661865 Test accuracy: 0.37785151389464955\n",
      "[Epoch 54] Train loss: 1.1926063299179077 Test accuracy: 0.3911240149315637\n",
      "[Epoch 55] Train loss: 1.183894395828247 Test accuracy: 0.3911240149315637\n",
      "[Epoch 56] Train loss: 1.2092435359954834 Test accuracy: 0.37909581086686023\n",
      "[Epoch 57] Train loss: 1.2165721654891968 Test accuracy: 0.37992534218166735\n",
      "[Epoch 58] Train loss: 1.139824628829956 Test accuracy: 0.38158440481128164\n",
      "[Epoch 59] Train loss: 1.1730761528015137 Test accuracy: 0.3828287017834923\n",
      "[Epoch 60] Train loss: 1.166649341583252 Test accuracy: 0.3911240149315637\n",
      "[Epoch 61] Train loss: 1.1555370092391968 Test accuracy: 0.399419328079635\n",
      "[Epoch 62] Train loss: 1.1263147592544556 Test accuracy: 0.4027374533388635\n",
      "[Epoch 63] Train loss: 1.1355082988739014 Test accuracy: 0.3981750311074243\n",
      "[Epoch 64] Train loss: 1.1107254028320312 Test accuracy: 0.3907092492741601\n",
      "[Epoch 65] Train loss: 1.0761908292770386 Test accuracy: 0.3973454997926172\n",
      "[Epoch 66] Train loss: 1.119515061378479 Test accuracy: 0.39029448361675656\n",
      "[Epoch 67] Train loss: 1.1242562532424927 Test accuracy: 0.39610120282040645\n",
      "[Epoch 68] Train loss: 1.1790767908096313 Test accuracy: 0.41269182911654917\n",
      "[Epoch 69] Train loss: 1.1835260391235352 Test accuracy: 0.38987971795935294\n",
      "[Epoch 70] Train loss: 1.0555906295776367 Test accuracy: 0.39153878058896724\n",
      "[Epoch 71] Train loss: 1.0877101421356201 Test accuracy: 0.3998340937370386\n",
      "[Epoch 72] Train loss: 1.250173807144165 Test accuracy: 0.3882206553297387\n",
      "[Epoch 73] Train loss: 1.1275851726531982 Test accuracy: 0.38780588967233515\n",
      "[Epoch 74] Train loss: 1.0447938442230225 Test accuracy: 0.4010783907092493\n",
      "[Epoch 75] Train loss: 1.090027093887329 Test accuracy: 0.40149315636665284\n",
      "[Epoch 76] Train loss: 1.0045995712280273 Test accuracy: 0.3944421401907922\n",
      "[Epoch 77] Train loss: 1.224269151687622 Test accuracy: 0.3927830775611779\n",
      "[Epoch 78] Train loss: 1.1244512796401978 Test accuracy: 0.38614682704272085\n",
      "[Epoch 79] Train loss: 1.1594420671463013 Test accuracy: 0.3956864371630029\n",
      "[Epoch 80] Train loss: 1.0297160148620605 Test accuracy: 0.4043965159684778\n",
      "[Epoch 81] Train loss: 1.0215333700180054 Test accuracy: 0.3981750311074243\n",
      "[Epoch 82] Train loss: 1.0841196775436401 Test accuracy: 0.3973454997926172\n",
      "[Epoch 83] Train loss: 0.9866890907287598 Test accuracy: 0.40398175031107425\n",
      "[Epoch 84] Train loss: 0.9575374126434326 Test accuracy: 0.3832434674408959\n",
      "[Epoch 85] Train loss: 1.0170625448226929 Test accuracy: 0.4068851099128992\n",
      "[Epoch 86] Train loss: 0.9603675603866577 Test accuracy: 0.4010783907092493\n",
      "[Epoch 87] Train loss: 1.0791223049163818 Test accuracy: 0.40232268768145996\n",
      "[Epoch 88] Train loss: 1.0999394655227661 Test accuracy: 0.3956864371630029\n",
      "[Epoch 89] Train loss: 1.024436354637146 Test accuracy: 0.3927830775611779\n",
      "[Epoch 90] Train loss: 0.9633087515830994 Test accuracy: 0.40771464122770634\n",
      "[Epoch 91] Train loss: 1.0419795513153076 Test accuracy: 0.39776026545002074\n",
      "[Epoch 92] Train loss: 0.9719588160514832 Test accuracy: 0.3956864371630029\n",
      "[Epoch 93] Train loss: 1.1729867458343506 Test accuracy: 0.3865615927001244\n",
      "[Epoch 94] Train loss: 0.9595906138420105 Test accuracy: 0.40315221899626713\n",
      "[Epoch 95] Train loss: 0.988840639591217 Test accuracy: 0.40481128162588137\n",
      "[Epoch 96] Train loss: 1.1228106021881104 Test accuracy: 0.38075487349647447\n",
      "[Epoch 97] Train loss: 0.9165727496147156 Test accuracy: 0.38863542098714227\n",
      "[Epoch 98] Train loss: 0.9397367238998413 Test accuracy: 0.3981750311074243\n",
      "[Epoch 99] Train loss: 0.9550772905349731 Test accuracy: 0.39527167150559933\n",
      "\n",
      "- Time:  84.91316533088684\n"
     ]
    }
   ],
   "source": [
    "optimizer = torch.optim.SGD(net.parameters(), lr=0.03)\n",
    "loss_function = F.nll_loss\n",
    "success_history = list()\n",
    "\n",
    "import time\n",
    "\n",
    "start = time.time()\n",
    "\n",
    "for epoch in range(100):\n",
    "    net.train()\n",
    "    \n",
    "    # Training\n",
    "    for idx in range(cloud_x.shape[0]):\n",
    "        batch = cloud_x[idx]\n",
    "        target = cloud_y[idx]\n",
    "        optimizer.zero_grad() # set to zero gradient buffers\n",
    "        output = net.forward(batch)\n",
    "        loss = loss_function(output, target)\n",
    "        loss.backward() # compute gradients\n",
    "        optimizer.step() # do the update\n",
    "        \n",
    "    # Testing  \n",
    "    net.eval()\n",
    "    \n",
    "    output_test = np.argmax(net(cloud_test_x).data.cpu().numpy(), axis=1)\n",
    "    success = (cloud_test_y == output_test)\n",
    "    success_history.append(success.sum() / success.shape[0])\n",
    "    \n",
    "    print('[Epoch {}] Train loss: {} Test accuracy: {}'.format(epoch, loss, success_history[epoch]))\n",
    "    \n",
    "end = time.time()\n",
    "print('\\n- Time: ', end - start)"
   ]
  },
  {
   "cell_type": "code",
   "execution_count": 227,
   "metadata": {},
   "outputs": [
    {
     "data": {
      "image/png": "[encoded data removed]",
      "text/plain": [
       "<Figure size 720x504 with 2 Axes>"
      ]
     },
     "execution_count": 227,
     "metadata": {},
     "output_type": "execute_result"
    },
    {
     "data": {
      "image/png": "[encoded data removed]",
      "text/plain": [
       "<Figure size 720x504 with 2 Axes>"
      ]
     },
     "metadata": {},
     "output_type": "display_data"
    }
   ],
   "source": [
    "confusion = confusion_matrix(cloud_test_y, output_test)\n",
    "print_confusion_matrix(confusion, cloud_lookup_table)"
   ]
  },
  {
   "cell_type": "code",
   "execution_count": null,
   "metadata": {},
   "outputs": [],
   "source": []
  }
 ],
 "metadata": {
  "kernelspec": {
   "display_name": "Python 3 [GPU]",
   "language": "python",
   "name": "optirun_python3"
  },
  "language_info": {
   "codemirror_mode": {
    "name": "ipython",
    "version": 3
   },
   "file_extension": ".py",
   "mimetype": "text/x-python",
   "name": "python",
   "nbconvert_exporter": "python",
   "pygments_lexer": "ipython3",
   "version": "3.6.5"
  }
 },
 "nbformat": 4,
 "nbformat_minor": 2
}
